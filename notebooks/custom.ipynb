{
 "cells": [
  {
   "cell_type": "markdown",
   "id": "277d1969",
   "metadata": {},
   "source": [
    "## Datasets to be evaluated Visualization"
   ]
  },
  {
   "cell_type": "code",
   "execution_count": 1,
   "id": "fbb45e8c",
   "metadata": {},
   "outputs": [],
   "source": [
    "import yaml \n",
    "\n",
    "with open('../config/scenarios.yaml') as file: \n",
    "    scenarios = yaml.safe_load(file)"
   ]
  },
  {
   "cell_type": "code",
   "execution_count": 2,
   "id": "9e019889",
   "metadata": {},
   "outputs": [
    {
     "data": {
      "text/plain": [
       "{'n_per': 1000,\n",
       " 'n_blobs': [10, 5, 5],\n",
       " 'n_episodes': 3,\n",
       " 'latent_dim': 2,\n",
       " 'drift_bin': 0.0}"
      ]
     },
     "execution_count": 2,
     "metadata": {},
     "output_type": "execute_result"
    }
   ],
   "source": [
    "scenarios['synth']"
   ]
  },
  {
   "cell_type": "code",
   "execution_count": 3,
   "id": "bf5c3600",
   "metadata": {},
   "outputs": [],
   "source": [
    "import cf_cl.datasets as data_utils"
   ]
  },
  {
   "cell_type": "code",
   "execution_count": 4,
   "id": "0db2b3fb",
   "metadata": {},
   "outputs": [
    {
     "data": {
      "text/plain": [
       "<module 'cf_cl.datasets' from '/home/euecrlf_wsl/repos/cf-cl/src/cf_cl/datasets.py'>"
      ]
     },
     "execution_count": 4,
     "metadata": {},
     "output_type": "execute_result"
    }
   ],
   "source": [
    "import importlib \n",
    "importlib.reload(data_utils)"
   ]
  },
  {
   "cell_type": "code",
   "execution_count": 5,
   "id": "93b58871",
   "metadata": {},
   "outputs": [],
   "source": [
    "benchmark = data_utils.create_synthetic_benchmark(\n",
    "    **scenarios['synth']\n",
    ")"
   ]
  },
  {
   "cell_type": "code",
   "execution_count": 6,
   "id": "d2acebe5",
   "metadata": {},
   "outputs": [],
   "source": [
    "train_stream = benchmark.train_stream"
   ]
  },
  {
   "cell_type": "code",
   "execution_count": 7,
   "id": "2cccccf7",
   "metadata": {},
   "outputs": [
    {
     "name": "stdout",
     "output_type": "stream",
     "text": [
      "Start of experience 0\n",
      "Start of experience 1\n",
      "Start of experience 2\n"
     ]
    }
   ],
   "source": [
    "for experience in benchmark.train_stream:\n",
    "    print(f\"Start of experience {experience.current_experience}\")"
   ]
  },
  {
   "cell_type": "code",
   "execution_count": null,
   "id": "ddd3a984",
   "metadata": {},
   "outputs": [],
   "source": []
  },
  {
   "cell_type": "markdown",
   "id": "b178dd29",
   "metadata": {},
   "source": [
    "## Classic Benchmark "
   ]
  },
  {
   "cell_type": "code",
   "execution_count": 8,
   "id": "23cb3f9c",
   "metadata": {},
   "outputs": [],
   "source": [
    "dataset_named = data_utils.NamedDataset(\"ccifar10\", \"SplitCIFAR10\")"
   ]
  },
  {
   "cell_type": "code",
   "execution_count": 9,
   "id": "7e14e591",
   "metadata": {},
   "outputs": [],
   "source": [
    "classic_benchmarks = data_utils.create_classic_avalanche_benchmark(\n",
    "    [dataset_named], \n",
    "    n_experiences=5\n",
    ")"
   ]
  },
  {
   "cell_type": "code",
   "execution_count": 10,
   "id": "40ac372f",
   "metadata": {},
   "outputs": [
    {
     "data": {
      "text/plain": [
       "{'ccifar10': <avalanche.benchmarks.scenarios.deprecated.new_classes.nc_scenario.NCScenario at 0x73676400b6d0>}"
      ]
     },
     "execution_count": 10,
     "metadata": {},
     "output_type": "execute_result"
    }
   ],
   "source": [
    "classic_benchmarks"
   ]
  },
  {
   "cell_type": "code",
   "execution_count": 11,
   "id": "dc4d5314",
   "metadata": {},
   "outputs": [
    {
     "data": {
      "text/plain": [
       "{'ccifar10': <avalanche.benchmarks.scenarios.deprecated.new_classes.nc_scenario.NCScenario at 0x73676400b6d0>}"
      ]
     },
     "execution_count": 11,
     "metadata": {},
     "output_type": "execute_result"
    }
   ],
   "source": [
    "classic_benchmarks"
   ]
  },
  {
   "cell_type": "code",
   "execution_count": 12,
   "id": "a056f17b",
   "metadata": {},
   "outputs": [
    {
     "name": "stdout",
     "output_type": "stream",
     "text": [
      "Start of experience 0\n",
      "Start of experience 1\n",
      "Start of experience 2\n",
      "Start of experience 3\n",
      "Start of experience 4\n"
     ]
    }
   ],
   "source": [
    "for experience in classic_benchmarks[dataset_named.file].train_stream:\n",
    "    print(f\"Start of experience {experience.current_experience}\")\n"
   ]
  },
  {
   "cell_type": "markdown",
   "id": "693bb43d",
   "metadata": {},
   "source": [
    "## Train"
   ]
  },
  {
   "cell_type": "code",
   "execution_count": 13,
   "id": "babdb94b",
   "metadata": {},
   "outputs": [],
   "source": [
    "from cf_cl.vae import VAE, MlpVAE, VAE_loss"
   ]
  },
  {
   "cell_type": "code",
   "execution_count": 34,
   "id": "e28ce986",
   "metadata": {},
   "outputs": [],
   "source": [
    "from torch.optim import SGD \n",
    "\n",
    "from avalanche.training.supervised import (Naive, CWRStar, Replay, GDumb, \n",
    "                                           Cumulative, LwF, GEM, AGEM, EWC, \n",
    "                                           VAETraining)\n",
    "\n",
    "model = VAE(img_channels=3, img_size=32, latent_dim=2)\n",
    "optimizer = SGD(model.parameters(), lr=0.001, momentum=0.9)\n",
    "criterion = VAE_loss"
   ]
  },
  {
   "cell_type": "code",
   "execution_count": 35,
   "id": "d5b12603",
   "metadata": {},
   "outputs": [],
   "source": [
    "from avalanche.evaluation.metrics import (\n",
    "    accuracy_metrics, loss_metrics, forgetting_metrics, bwt_metrics, class_accuracy_metrics, timing_metrics\n",
    ")\n",
    "from avalanche.logging import InteractiveLogger\n",
    "from avalanche.training.plugins.evaluation import EvaluationPlugin\n",
    "\n",
    "interactive_logger = InteractiveLogger()\n",
    "\n",
    "eval_plugin = EvaluationPlugin(\n",
    "    *loss_metrics(minibatch=False, epoch=False, experience=True, stream=True),\n",
    "    *timing_metrics(experience=True, stream=True),  # optional\n",
    "    loggers=[interactive_logger],\n",
    ")\n"
   ]
  },
  {
   "cell_type": "code",
   "execution_count": 39,
   "id": "871e969b",
   "metadata": {},
   "outputs": [],
   "source": [
    "cl_strategy = VAETraining( #SupervisedTemplate overwritten criterion for specific input\n",
    "    model=model, optimizer=optimizer, criterion=criterion,\n",
    "    train_mb_size=1, train_epochs=4, eval_mb_size=None,\n",
    "    evaluator=eval_plugin\n",
    ")"
   ]
  },
  {
   "cell_type": "code",
   "execution_count": 40,
   "id": "b3e3c202",
   "metadata": {},
   "outputs": [],
   "source": [
    "benchmark = classic_benchmarks[dataset_named.file]"
   ]
  },
  {
   "cell_type": "code",
   "execution_count": 41,
   "id": "92d564e5",
   "metadata": {},
   "outputs": [
    {
     "name": "stdout",
     "output_type": "stream",
     "text": [
      "Starting experiment...\n",
      "Start of experience: 0\n",
      "Current classes: [9, 5]\n",
      "-- >> Start of training phase << --\n",
      "100%|██████████| 10000/10000 [02:32<00:00, 65.42it/s]\n",
      "Epoch 0 ended.\n",
      "100%|██████████| 10000/10000 [02:39<00:00, 62.51it/s]\n",
      "Epoch 1 ended.\n",
      "100%|██████████| 10000/10000 [02:37<00:00, 63.66it/s]\n",
      "Epoch 2 ended.\n",
      "  0%|          | 0/20 [1:18:17<?, ?it/s]\n",
      "  0%|          | 0/20 [1:18:17<?, ?it/s]\n",
      "100%|██████████| 10000/10000 [02:59<00:00, 55.87it/s]\n",
      "Epoch 3 ended.\n",
      "-- >> End of training phase << --\n",
      "Training completed\n",
      "Computing accuracy on the whole test set...\n",
      "-- >> Start of eval phase << --\n",
      "-- Starting eval on experience 0 (Task 0) from test stream --\n",
      "100%|██████████| 2000/2000 [00:15<00:00, 129.96it/s]\n",
      "> Eval on experience 0 (Task 0) from test stream ended.\n",
      "\tLoss_Exp/eval_phase/test_stream/Task000/Exp000 = 5203.8508\n",
      "\tTime_Exp/eval_phase/test_stream/Task000/Exp000 = 15.3917\n",
      "-- Starting eval on experience 1 (Task 0) from test stream --\n",
      "100%|██████████| 2000/2000 [00:16<00:00, 123.23it/s]\n",
      "> Eval on experience 1 (Task 0) from test stream ended.\n",
      "\tLoss_Exp/eval_phase/test_stream/Task000/Exp001 = 4507.9441\n",
      "\tTime_Exp/eval_phase/test_stream/Task000/Exp001 = 16.2283\n",
      "-- Starting eval on experience 2 (Task 0) from test stream --\n",
      "100%|██████████| 2000/2000 [00:19<00:00, 104.08it/s]\n",
      "> Eval on experience 2 (Task 0) from test stream ended.\n",
      "\tLoss_Exp/eval_phase/test_stream/Task000/Exp002 = 4500.2779\n",
      "\tTime_Exp/eval_phase/test_stream/Task000/Exp002 = 19.2193\n",
      "-- Starting eval on experience 3 (Task 0) from test stream --\n",
      "100%|██████████| 2000/2000 [00:15<00:00, 131.64it/s]\n",
      "> Eval on experience 3 (Task 0) from test stream ended.\n",
      "\tLoss_Exp/eval_phase/test_stream/Task000/Exp003 = 4524.4511\n",
      "\tTime_Exp/eval_phase/test_stream/Task000/Exp003 = 15.1953\n",
      "-- Starting eval on experience 4 (Task 0) from test stream --\n",
      "100%|██████████| 2000/2000 [00:15<00:00, 128.96it/s]\n",
      "> Eval on experience 4 (Task 0) from test stream ended.\n",
      "\tLoss_Exp/eval_phase/test_stream/Task000/Exp004 = 5147.9039\n",
      "\tTime_Exp/eval_phase/test_stream/Task000/Exp004 = 15.5099\n",
      "-- >> End of eval phase << --\n",
      "\tLoss_Stream/eval_phase/test_stream/Task000 = 4776.8856\n",
      "\tTime_Stream/eval_phase/test_stream/Task000 = 81.6008\n",
      "{'Loss_Exp/eval_phase/test_stream/Task000/Exp000': 5203.850849365234, 'Loss_Exp/eval_phase/test_stream/Task000/Exp001': 4507.944112823487, 'Loss_Exp/eval_phase/test_stream/Task000/Exp002': 4500.277857147217, 'Loss_Exp/eval_phase/test_stream/Task000/Exp003': 4524.451142883301, 'Loss_Exp/eval_phase/test_stream/Task000/Exp004': 5147.903935424804, 'Loss_Stream/eval_phase/test_stream/Task000': 4776.885579528808}\n",
      "Start of experience: 1\n",
      "Current classes: [1, 4]\n",
      "-- >> Start of training phase << --\n",
      "100%|██████████| 10000/10000 [02:57<00:00, 56.27it/s]\n",
      "Epoch 0 ended.\n",
      "100%|██████████| 10000/10000 [02:49<00:00, 59.08it/s]\n",
      "Epoch 1 ended.\n",
      "100%|██████████| 10000/10000 [02:44<00:00, 60.85it/s]\n",
      "Epoch 2 ended.\n",
      "100%|██████████| 10000/10000 [02:56<00:00, 56.54it/s]\n",
      "Epoch 3 ended.\n",
      "-- >> End of training phase << --\n",
      "Training completed\n",
      "Computing accuracy on the whole test set...\n",
      "-- >> Start of eval phase << --\n",
      "-- Starting eval on experience 0 (Task 0) from test stream --\n",
      "100%|██████████| 2000/2000 [00:16<00:00, 118.93it/s]\n",
      "> Eval on experience 0 (Task 0) from test stream ended.\n",
      "\tLoss_Exp/eval_phase/test_stream/Task000/Exp000 = 5203.8508\n",
      "\tTime_Exp/eval_phase/test_stream/Task000/Exp000 = 16.8190\n",
      "-- Starting eval on experience 1 (Task 0) from test stream --\n",
      "100%|██████████| 2000/2000 [00:15<00:00, 131.94it/s]\n",
      "> Eval on experience 1 (Task 0) from test stream ended.\n",
      "\tLoss_Exp/eval_phase/test_stream/Task000/Exp001 = 4507.9441\n",
      "\tTime_Exp/eval_phase/test_stream/Task000/Exp001 = 15.1611\n",
      "-- Starting eval on experience 2 (Task 0) from test stream --\n",
      "100%|██████████| 2000/2000 [00:16<00:00, 118.03it/s]\n",
      "> Eval on experience 2 (Task 0) from test stream ended.\n",
      "\tLoss_Exp/eval_phase/test_stream/Task000/Exp002 = 4500.2779\n",
      "\tTime_Exp/eval_phase/test_stream/Task000/Exp002 = 16.9425\n",
      "-- Starting eval on experience 3 (Task 0) from test stream --\n",
      "100%|██████████| 2000/2000 [00:15<00:00, 126.35it/s]\n",
      "> Eval on experience 3 (Task 0) from test stream ended.\n",
      "\tLoss_Exp/eval_phase/test_stream/Task000/Exp003 = 4524.4511\n",
      "\tTime_Exp/eval_phase/test_stream/Task000/Exp003 = 15.8314\n",
      "-- Starting eval on experience 4 (Task 0) from test stream --\n",
      "100%|██████████| 2000/2000 [00:16<00:00, 119.53it/s]\n",
      "> Eval on experience 4 (Task 0) from test stream ended.\n",
      "\tLoss_Exp/eval_phase/test_stream/Task000/Exp004 = 5147.9039\n",
      "\tTime_Exp/eval_phase/test_stream/Task000/Exp004 = 16.7363\n",
      "-- >> End of eval phase << --\n",
      "\tLoss_Stream/eval_phase/test_stream/Task000 = 4776.8856\n",
      "\tTime_Stream/eval_phase/test_stream/Task000 = 81.5698\n",
      "{'Loss_Exp/eval_phase/test_stream/Task000/Exp000': 5203.850849243164, 'Loss_Exp/eval_phase/test_stream/Task000/Exp001': 4507.9441123657225, 'Loss_Exp/eval_phase/test_stream/Task000/Exp002': 4500.2778568878175, 'Loss_Exp/eval_phase/test_stream/Task000/Exp003': 4524.451143280029, 'Loss_Exp/eval_phase/test_stream/Task000/Exp004': 5147.903935302735, 'Loss_Stream/eval_phase/test_stream/Task000': 4776.8855794158935}\n",
      "Start of experience: 2\n",
      "Current classes: [2, 3]\n",
      "-- >> Start of training phase << --\n",
      "100%|██████████| 10000/10000 [03:08<00:00, 53.09it/s]\n",
      "Epoch 0 ended.\n",
      "100%|██████████| 10000/10000 [03:04<00:00, 54.11it/s]\n",
      "Epoch 1 ended.\n",
      "100%|██████████| 10000/10000 [03:00<00:00, 55.47it/s]\n",
      "Epoch 2 ended.\n",
      "100%|██████████| 10000/10000 [03:06<00:00, 53.61it/s]\n",
      "Epoch 3 ended.\n",
      "-- >> End of training phase << --\n",
      "Training completed\n",
      "Computing accuracy on the whole test set...\n",
      "-- >> Start of eval phase << --\n",
      "-- Starting eval on experience 0 (Task 0) from test stream --\n",
      "100%|██████████| 2000/2000 [00:20<00:00, 99.82it/s] \n",
      "> Eval on experience 0 (Task 0) from test stream ended.\n",
      "\tLoss_Exp/eval_phase/test_stream/Task000/Exp000 = 5203.8508\n",
      "\tTime_Exp/eval_phase/test_stream/Task000/Exp000 = 20.0383\n",
      "-- Starting eval on experience 1 (Task 0) from test stream --\n",
      "100%|██████████| 2000/2000 [00:17<00:00, 116.32it/s]\n",
      "> Eval on experience 1 (Task 0) from test stream ended.\n",
      "\tLoss_Exp/eval_phase/test_stream/Task000/Exp001 = 4507.9441\n",
      "\tTime_Exp/eval_phase/test_stream/Task000/Exp001 = 17.1974\n",
      "-- Starting eval on experience 2 (Task 0) from test stream --\n",
      "100%|██████████| 2000/2000 [00:16<00:00, 124.74it/s]\n",
      "> Eval on experience 2 (Task 0) from test stream ended.\n",
      "\tLoss_Exp/eval_phase/test_stream/Task000/Exp002 = 4500.2779\n",
      "\tTime_Exp/eval_phase/test_stream/Task000/Exp002 = 16.0384\n",
      "-- Starting eval on experience 3 (Task 0) from test stream --\n",
      "100%|██████████| 2000/2000 [00:15<00:00, 132.90it/s]\n",
      "> Eval on experience 3 (Task 0) from test stream ended.\n",
      "\tLoss_Exp/eval_phase/test_stream/Task000/Exp003 = 4524.4511\n",
      "\tTime_Exp/eval_phase/test_stream/Task000/Exp003 = 15.0497\n",
      "-- Starting eval on experience 4 (Task 0) from test stream --\n",
      "100%|██████████| 2000/2000 [00:15<00:00, 125.69it/s]\n",
      "> Eval on experience 4 (Task 0) from test stream ended.\n",
      "\tLoss_Exp/eval_phase/test_stream/Task000/Exp004 = 5147.9039\n",
      "\tTime_Exp/eval_phase/test_stream/Task000/Exp004 = 15.9152\n",
      "-- >> End of eval phase << --\n",
      "\tLoss_Stream/eval_phase/test_stream/Task000 = 4776.8856\n",
      "\tTime_Stream/eval_phase/test_stream/Task000 = 84.3241\n",
      "{'Loss_Exp/eval_phase/test_stream/Task000/Exp000': 5203.850849487305, 'Loss_Exp/eval_phase/test_stream/Task000/Exp001': 4507.944112640381, 'Loss_Exp/eval_phase/test_stream/Task000/Exp002': 4500.277857131958, 'Loss_Exp/eval_phase/test_stream/Task000/Exp003': 4524.451142791748, 'Loss_Exp/eval_phase/test_stream/Task000/Exp004': 5147.903935302735, 'Loss_Stream/eval_phase/test_stream/Task000': 4776.885579470825}\n",
      "Start of experience: 3\n",
      "Current classes: [8, 6]\n",
      "-- >> Start of training phase << --\n",
      "100%|██████████| 10000/10000 [02:48<00:00, 59.42it/s]\n",
      "Epoch 0 ended.\n",
      "100%|██████████| 10000/10000 [02:51<00:00, 58.43it/s]\n",
      "Epoch 1 ended.\n",
      "100%|██████████| 10000/10000 [03:15<00:00, 51.10it/s]\n",
      "Epoch 2 ended.\n",
      "100%|██████████| 10000/10000 [03:01<00:00, 55.20it/s]\n",
      "Epoch 3 ended.\n",
      "-- >> End of training phase << --\n",
      "Training completed\n",
      "Computing accuracy on the whole test set...\n",
      "-- >> Start of eval phase << --\n",
      "-- Starting eval on experience 0 (Task 0) from test stream --\n",
      "100%|██████████| 2000/2000 [00:17<00:00, 111.27it/s]\n",
      "> Eval on experience 0 (Task 0) from test stream ended.\n",
      "\tLoss_Exp/eval_phase/test_stream/Task000/Exp000 = 5203.8508\n",
      "\tTime_Exp/eval_phase/test_stream/Task000/Exp000 = 17.9786\n",
      "-- Starting eval on experience 1 (Task 0) from test stream --\n",
      "100%|██████████| 2000/2000 [00:16<00:00, 120.00it/s]\n",
      "> Eval on experience 1 (Task 0) from test stream ended.\n",
      "\tLoss_Exp/eval_phase/test_stream/Task000/Exp001 = 4507.9441\n",
      "\tTime_Exp/eval_phase/test_stream/Task000/Exp001 = 16.6717\n",
      "-- Starting eval on experience 2 (Task 0) from test stream --\n",
      "100%|██████████| 2000/2000 [00:16<00:00, 124.09it/s]\n",
      "> Eval on experience 2 (Task 0) from test stream ended.\n",
      "\tLoss_Exp/eval_phase/test_stream/Task000/Exp002 = 4500.2779\n",
      "\tTime_Exp/eval_phase/test_stream/Task000/Exp002 = 16.1219\n",
      "-- Starting eval on experience 3 (Task 0) from test stream --\n",
      "100%|██████████| 2000/2000 [00:16<00:00, 120.28it/s]\n",
      "> Eval on experience 3 (Task 0) from test stream ended.\n",
      "\tLoss_Exp/eval_phase/test_stream/Task000/Exp003 = 4524.4511\n",
      "\tTime_Exp/eval_phase/test_stream/Task000/Exp003 = 16.6311\n",
      "-- Starting eval on experience 4 (Task 0) from test stream --\n",
      "100%|██████████| 2000/2000 [00:16<00:00, 124.97it/s]\n",
      "> Eval on experience 4 (Task 0) from test stream ended.\n",
      "\tLoss_Exp/eval_phase/test_stream/Task000/Exp004 = 5147.9039\n",
      "\tTime_Exp/eval_phase/test_stream/Task000/Exp004 = 16.0089\n",
      "-- >> End of eval phase << --\n",
      "\tLoss_Stream/eval_phase/test_stream/Task000 = 4776.8856\n",
      "\tTime_Stream/eval_phase/test_stream/Task000 = 83.5149\n",
      "{'Loss_Exp/eval_phase/test_stream/Task000/Exp000': 5203.850849731445, 'Loss_Exp/eval_phase/test_stream/Task000/Exp001': 4507.944112609864, 'Loss_Exp/eval_phase/test_stream/Task000/Exp002': 4500.277857009888, 'Loss_Exp/eval_phase/test_stream/Task000/Exp003': 4524.4511431579585, 'Loss_Exp/eval_phase/test_stream/Task000/Exp004': 5147.903935424804, 'Loss_Stream/eval_phase/test_stream/Task000': 4776.885579586792}\n",
      "Start of experience: 4\n",
      "Current classes: [0, 7]\n",
      "-- >> Start of training phase << --\n",
      "100%|██████████| 10000/10000 [03:02<00:00, 54.77it/s]\n",
      "Epoch 0 ended.\n",
      "100%|██████████| 10000/10000 [03:43<00:00, 44.78it/s]\n",
      "Epoch 1 ended.\n",
      "100%|██████████| 10000/10000 [04:04<00:00, 40.96it/s]\n",
      "Epoch 2 ended.\n",
      "100%|██████████| 10000/10000 [05:07<00:00, 32.52it/s]\n",
      "Epoch 3 ended.\n",
      "-- >> End of training phase << --\n",
      "Training completed\n",
      "Computing accuracy on the whole test set...\n",
      "-- >> Start of eval phase << --\n",
      "-- Starting eval on experience 0 (Task 0) from test stream --\n",
      "100%|██████████| 2000/2000 [00:26<00:00, 74.26it/s]\n",
      "> Eval on experience 0 (Task 0) from test stream ended.\n",
      "\tLoss_Exp/eval_phase/test_stream/Task000/Exp000 = 5203.8508\n",
      "\tTime_Exp/eval_phase/test_stream/Task000/Exp000 = 26.9402\n",
      "-- Starting eval on experience 1 (Task 0) from test stream --\n",
      "100%|██████████| 2000/2000 [00:29<00:00, 68.82it/s]\n",
      "> Eval on experience 1 (Task 0) from test stream ended.\n",
      "\tLoss_Exp/eval_phase/test_stream/Task000/Exp001 = 4507.9441\n",
      "\tTime_Exp/eval_phase/test_stream/Task000/Exp001 = 29.0712\n",
      "-- Starting eval on experience 2 (Task 0) from test stream --\n",
      "100%|██████████| 2000/2000 [00:30<00:00, 64.98it/s]\n",
      "> Eval on experience 2 (Task 0) from test stream ended.\n",
      "\tLoss_Exp/eval_phase/test_stream/Task000/Exp002 = 4500.2779\n",
      "\tTime_Exp/eval_phase/test_stream/Task000/Exp002 = 30.7805\n",
      "-- Starting eval on experience 3 (Task 0) from test stream --\n",
      "100%|██████████| 2000/2000 [00:27<00:00, 73.09it/s]\n",
      "> Eval on experience 3 (Task 0) from test stream ended.\n",
      "\tLoss_Exp/eval_phase/test_stream/Task000/Exp003 = 4524.4511\n",
      "\tTime_Exp/eval_phase/test_stream/Task000/Exp003 = 27.3665\n",
      "-- Starting eval on experience 4 (Task 0) from test stream --\n",
      "100%|██████████| 2000/2000 [00:25<00:00, 79.38it/s] \n",
      "> Eval on experience 4 (Task 0) from test stream ended.\n",
      "\tLoss_Exp/eval_phase/test_stream/Task000/Exp004 = 5147.9039\n",
      "\tTime_Exp/eval_phase/test_stream/Task000/Exp004 = 25.1978\n",
      "-- >> End of eval phase << --\n",
      "\tLoss_Stream/eval_phase/test_stream/Task000 = 4776.8856\n",
      "\tTime_Stream/eval_phase/test_stream/Task000 = 139.5332\n",
      "{'Loss_Exp/eval_phase/test_stream/Task000/Exp000': 5203.850849731445, 'Loss_Exp/eval_phase/test_stream/Task000/Exp001': 4507.944112609864, 'Loss_Exp/eval_phase/test_stream/Task000/Exp002': 4500.277856872559, 'Loss_Exp/eval_phase/test_stream/Task000/Exp003': 4524.4511431579585, 'Loss_Exp/eval_phase/test_stream/Task000/Exp004': 5147.903935424804, 'Loss_Stream/eval_phase/test_stream/Task000': 4776.885579559326}\n"
     ]
    }
   ],
   "source": [
    "print('Starting experiment...')\n",
    "all_results = []\n",
    "\n",
    "for exp in benchmark.train_stream:\n",
    "    print(f\"Start of experience: {exp.current_experience}\")\n",
    "    print(f\"Current classes: {exp.classes_in_this_experience}\")\n",
    "\n",
    "    # Train on this experience\n",
    "    cl_strategy.train(exp)\n",
    "    print('Training completed')\n",
    "\n",
    "    # Evaluate on the whole test stream\n",
    "    print('Computing accuracy on the whole test set...')\n",
    "    eval_results = cl_strategy.eval(benchmark.test_stream)\n",
    "    all_results.append(eval_results)\n",
    "    print({k: eval_results[k] for k in eval_results if 'Loss' in k})\n"
   ]
  },
  {
   "cell_type": "code",
   "execution_count": null,
   "id": "e0662a7b",
   "metadata": {},
   "outputs": [],
   "source": [
    "all_results"
   ]
  }
 ],
 "metadata": {
  "kernelspec": {
   "display_name": "cf-cl",
   "language": "python",
   "name": "python3"
  },
  "language_info": {
   "codemirror_mode": {
    "name": "ipython",
    "version": 3
   },
   "file_extension": ".py",
   "mimetype": "text/x-python",
   "name": "python",
   "nbconvert_exporter": "python",
   "pygments_lexer": "ipython3",
   "version": "3.11.12"
  }
 },
 "nbformat": 4,
 "nbformat_minor": 5
}
